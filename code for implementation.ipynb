{
 "cells": [
  {
   "cell_type": "code",
   "execution_count": 3,
   "id": "716b8a7f",
   "metadata": {},
   "outputs": [
    {
     "data": {
      "application/vnd.jupyter.widget-view+json": {
       "model_id": "",
       "version_major": 2,
       "version_minor": 0
      },
      "text/plain": [
       "FloatProgress(value=0.0, bar_style='info', description='Progress:', layout=Layout(height='25px', width='50%'),…"
      ]
     },
     "metadata": {},
     "output_type": "display_data"
    },
    {
     "name": "stdout",
     "output_type": "stream",
     "text": [
      "129960"
     ]
    }
   ],
   "source": [
    "from pyspark.sql import SparkSession\n",
    "import pyspark.sql.functions as F\n",
    "\n",
    "spark = SparkSession.builder.appName(\"YTTrendingAnalysis\").getOrCreate()\n",
    "\n",
    "base_path = \"s3://msbx5420-2025/teams/group2/project/\"\n",
    "countries = ['US', 'IN', 'GB']\n",
    "\n",
    "# Function to load and join video & category data\n",
    "def load_country_data(country_code):\n",
    "    videos_path = f\"{base_path}{country_code}videos.csv\"\n",
    "    category_path = f\"{base_path}{country_code}_category_id.json\"\n",
    "    \n",
    "    df = spark.read.option(\"header\", True).csv(videos_path)\n",
    "    cat = spark.read.option(\"multiline\", True).json(category_path)\n",
    "    \n",
    "    cat_exploded = cat.withColumn(\"items\", F.explode(\"items\"))\n",
    "    cat_df = cat_exploded.selectExpr(\"items.id as category_id\", \"items.snippet.title as category_name\")\n",
    "\n",
    "    df = df.join(cat_df, on=\"category_id\", how=\"left\")\n",
    "    df = df.withColumn(\"country\", F.lit(country_code))\n",
    "    return df\n",
    "\n",
    "# Load all\n",
    "df_all = load_country_data(\"US\").union(load_country_data(\"IN\")).union(load_country_data(\"GB\"))\n",
    "df_all.cache().count()\n"
   ]
  },
  {
   "cell_type": "code",
   "execution_count": 4,
   "id": "2e925d38",
   "metadata": {
    "scrolled": true
   },
   "outputs": [
    {
     "data": {
      "application/vnd.jupyter.widget-view+json": {
       "model_id": "",
       "version_major": 2,
       "version_minor": 0
      },
      "text/plain": [
       "FloatProgress(value=0.0, bar_style='info', description='Progress:', layout=Layout(height='25px', width='50%'),…"
      ]
     },
     "metadata": {},
     "output_type": "display_data"
    },
    {
     "name": "stdout",
     "output_type": "stream",
     "text": [
      "+-----------+-----------+-------------+--------------------+--------------------+--------------------+--------------------+-------+------+--------+-------------+--------------------+-----------------+----------------+----------------------+--------------------+--------------------+-------+\n",
      "|category_id|   video_id|trending_date|               title|       channel_title|        publish_time|                tags|  views| likes|dislikes|comment_count|      thumbnail_link|comments_disabled|ratings_disabled|video_error_or_removed|         description|       category_name|country|\n",
      "+-----------+-----------+-------------+--------------------+--------------------+--------------------+--------------------+-------+------+--------+-------------+--------------------+-----------------+----------------+----------------------+--------------------+--------------------+-------+\n",
      "|         22|2kyS6SvSYSE|     17.14.11|WE WANT TO TALK A...|        CaseyNeistat|2017-11-13T17:13:...|     SHANtell martin| 748374| 57527|    2966|        15954|https://i.ytimg.c...|            False|           False|                 False|SHANTELL'S CHANNE...|      People & Blogs|     US|\n",
      "|         24|1ZAPwfrtAFY|     17.14.11|The Trump Preside...|     LastWeekTonight|2017-11-13T07:30:...|\"last week tonigh...|2418783| 97185|    6146|        12703|https://i.ytimg.c...|            False|           False|                 False|One year after th...|       Entertainment|     US|\n",
      "|         23|5qpjK5DgCt4|     17.14.11|Racist Superman |...|        Rudy Mancuso|2017-11-12T19:05:...|\"racist superman\"...|3191434|146033|    5339|         8181|https://i.ytimg.c...|            False|           False|                 False|WATCH MY PREVIOUS...|              Comedy|     US|\n",
      "|         24|puqaWrEC7tY|     17.14.11|Nickelback Lyrics...|Good Mythical Mor...|2017-11-13T11:00:...|\"rhett and link\"|...| 343168| 10172|     666|         2146|https://i.ytimg.c...|            False|           False|                 False|Today we find out...|       Entertainment|     US|\n",
      "|         24|d380meD0W0M|     17.14.11|I Dare You: GOING...|            nigahiga|2017-11-12T18:01:...|\"ryan\"|\"higa\"|\"hi...|2095731|132235|    1989|        17518|https://i.ytimg.c...|            False|           False|                 False|I know it's been ...|       Entertainment|     US|\n",
      "|         28|gHZ1Qz0KiKM|     17.14.11|2 Weeks with iPho...|            iJustine|2017-11-13T19:07:...|\"ijustine\"|\"week ...| 119180|  9763|     511|         1434|https://i.ytimg.c...|            False|           False|                 False|Using the iPhone ...|Science & Technology|     US|\n",
      "|         24|39idVpFF7NQ|     17.14.11|Roy Moore & Jeff ...| Saturday Night Live|2017-11-12T05:37:...|\"SNL\"|\"Saturday N...|2103417| 15993|    2445|         1970|https://i.ytimg.c...|            False|           False|                 False|Embattled Alabama...|       Entertainment|     US|\n",
      "|         28|nc99ccSXST0|     17.14.11|5 Ice Cream Gadge...|  CrazyRussianHacker|2017-11-12T21:50:...|\"5 Ice Cream Gadg...| 817732| 23663|     778|         3432|https://i.ytimg.c...|            False|           False|                 False|Ice Cream Pint Co...|Science & Technology|     US|\n",
      "|          1|jr9QtXwC9vc|     17.14.11|The Greatest Show...|    20th Century Fox|2017-11-13T14:00:...|\"Trailer\"|\"Hugh J...| 826059|  3543|     119|          340|https://i.ytimg.c...|            False|           False|                 False|Inspired by the i...|    Film & Animation|     US|\n",
      "|         25|TUmyygCMMGA|     17.14.11|Why the rise of t...|                 Vox|2017-11-13T13:45:...|\"vox.com\"|\"vox\"|\"...| 256426| 12654|    1363|         2368|https://i.ytimg.c...|            False|           False|                 False|For now, at least...|     News & Politics|     US|\n",
      "|         17|9wRQljFNDW8|     17.14.11|Dion Lewis' 103-Y...|                 NFL|2017-11-13T02:05:...|\"NFL\"|\"Football\"|...|  81377|   655|      25|          177|https://i.ytimg.c...|            False|           False|                 False|New England Patri...|              Sports|     US|\n",
      "|         24|VifQlJit6A0|     17.14.11|(SPOILERS) 'Shiva...|                 amc|2017-11-13T03:00:...|\"The Walking Dead...| 104578|  1576|     303|         1279|https://i.ytimg.c...|            False|           False|                 False|Shiva arrives jus...|       Entertainment|     US|\n",
      "|         10|5E4ZBSInqUU|     17.14.11|Marshmello - Bloc...|          marshmello|2017-11-13T17:00:...|\"marshmello\"|\"blo...| 687582|114188|    1333|         8371|https://i.ytimg.c...|            False|           False|                 False|WATCH SILENCE MUS...|               Music|     US|\n",
      "|         25|GgVmn66oK_A|     17.14.11|Which Countries A...|       NowThis World|2017-11-12T14:00:...|\"nowthis\"|\"nowthi...| 544770|  7848|    1171|         3981|https://i.ytimg.c...|            False|           False|                 False|The world at larg...|     News & Politics|     US|\n",
      "|         15|TaTleo4cOs8|     17.14.11|SHOPPING FOR NEW ...|     The king of DIY|2017-11-12T18:30:...|\"shopping for new...| 207532|  7473|     246|         2120|https://i.ytimg.c...|            False|           False|                 False|Today we go shopp...|      Pets & Animals|     US|\n",
      "|         28|kgaO45SyaO4|     17.14.11|    The New SpotMini|      BostonDynamics|2017-11-13T20:09:...|\"Robots\"|\"Boston ...|  75752|  9419|      52|         1230|https://i.ytimg.c...|            False|           False|                 False|For more informat...|Science & Technology|     US|\n",
      "|         23|ZAQs-ctOqXQ|     17.14.11|One Change That W...|             Cracked|2017-11-12T17:00:...|\"pacific rim\"|\"pa...| 295639|  8011|     638|         1256|https://i.ytimg.c...|            False|           False|                 False|Pacific Rim was s...|              Comedy|     US|\n",
      "|         27|YVfyYrEmzgM|     17.14.11|How does your bod...|              TED-Ed|2017-11-13T16:00:...|\"TED\"|\"TED-Ed\"|\"T...|  78044|  5398|      53|          385|https://i.ytimg.c...|            False|           False|                 False|Check out our Pat...|           Education|     US|\n",
      "|         28|eNSN6qet1kE|     17.14.11|HomeMade Electric...|         PeterSripol|2017-11-13T15:30:...|\"ultralight\"|\"air...|  97007| 11963|      36|         2211|https://i.ytimg.c...|            False|           False|                 False|aaaannnd now to f...|Science & Technology|     US|\n",
      "|         27|B5HORANmzHw|     17.14.11|Founding An Inbre...|             SciShow|2017-11-12T22:00:...|\"SciShow\"|\"scienc...| 223871|  8421|     191|         1214|https://i.ytimg.c...|            False|           False|                 False|Thanks to 23AndMe...|           Education|     US|\n",
      "+-----------+-----------+-------------+--------------------+--------------------+--------------------+--------------------+-------+------+--------+-------------+--------------------+-----------------+----------------+----------------------+--------------------+--------------------+-------+\n",
      "only showing top 20 rows"
     ]
    }
   ],
   "source": [
    "df_all.show()"
   ]
  },
  {
   "cell_type": "code",
   "execution_count": 7,
   "id": "727ec7d5",
   "metadata": {},
   "outputs": [
    {
     "data": {
      "application/vnd.jupyter.widget-view+json": {
       "model_id": "",
       "version_major": 2,
       "version_minor": 0
      },
      "text/plain": [
       "FloatProgress(value=0.0, bar_style='info', description='Progress:', layout=Layout(height='25px', width='50%'),…"
      ]
     },
     "metadata": {},
     "output_type": "display_data"
    }
   ],
   "source": [
    "from pyspark.sql.functions import to_date, col\n",
    "\n",
    "# Convert numeric columns\n",
    "df_all= df_all.withColumn(\"views\", col(\"views\").cast(\"long\")) \\\n",
    "       .withColumn(\"likes\", col(\"likes\").cast(\"long\")) \\\n",
    "       .withColumn(\"dislikes\", col(\"dislikes\").cast(\"long\")) \\\n",
    "       .withColumn(\"comment_count\", col(\"comment_count\").cast(\"long\"))\n",
    "\n",
    "# Convert trending_date to proper format (it’s in dd.mm.yy format)\n",
    "df_all= df_all.withColumn(\"trending_date\", to_date(\"trending_date\", \"yy.dd.MM\"))\n",
    "\n",
    "# Convert publish_time to date (only the date part)\n",
    "df_all = df_all.withColumn(\"publish_date\", to_date(col(\"publish_time\").substr(1, 10), \"yyyy-MM-dd\"))\n"
   ]
  },
  {
   "cell_type": "code",
   "execution_count": 8,
   "id": "722c3a4f",
   "metadata": {},
   "outputs": [
    {
     "data": {
      "application/vnd.jupyter.widget-view+json": {
       "model_id": "",
       "version_major": 2,
       "version_minor": 0
      },
      "text/plain": [
       "FloatProgress(value=0.0, bar_style='info', description='Progress:', layout=Layout(height='25px', width='50%'),…"
      ]
     },
     "metadata": {},
     "output_type": "display_data"
    },
    {
     "name": "stdout",
     "output_type": "stream",
     "text": [
      "+--------------------+-----------------+\n",
      "|       category_name|avg_days_to_trend|\n",
      "+--------------------+-----------------+\n",
      "|              Movies|              3.0|\n",
      "|               Shows|             4.06|\n",
      "|Nonprofits & Acti...|             5.39|\n",
      "|                null|             6.59|\n",
      "|     News & Politics|             7.61|\n",
      "|       Howto & Style|              8.7|\n",
      "|       Entertainment|            10.86|\n",
      "|      Pets & Animals|            11.71|\n",
      "|              Gaming|            15.14|\n",
      "|Science & Technology|            15.19|\n",
      "|              Comedy|            23.26|\n",
      "|     Travel & Events|            25.11|\n",
      "|               Music|            25.33|\n",
      "|              Sports|            26.01|\n",
      "|      People & Blogs|            29.44|\n",
      "|    Film & Animation|            30.57|\n",
      "|           Education|            39.86|\n",
      "|    Autos & Vehicles|            39.91|\n",
      "+--------------------+-----------------+"
     ]
    }
   ],
   "source": [
    "%%spark\n",
    "from pyspark.sql.functions import datediff, col, round, avg\n",
    "\n",
    "# Calculate days to trend\n",
    "df_all = df_all.withColumn(\n",
    "    \"days_to_trend\", datediff(\"trending_date\", \"publish_date\")\n",
    ").filter(\n",
    "    col(\"days_to_trend\").isNotNull() & (col(\"days_to_trend\") >= 0)\n",
    ")\n",
    "\n",
    "# ✅ Group by category_name (not category)\n",
    "avg_days_by_category = df_all.groupBy(\"category_name\").agg(\n",
    "    round(avg(\"days_to_trend\"), 2).alias(\"avg_days_to_trend\")\n",
    ").orderBy(\"avg_days_to_trend\")\n",
    "\n",
    "avg_days_by_category.show()\n"
   ]
  },
  {
   "cell_type": "code",
   "execution_count": 1,
   "id": "a82266f2",
   "metadata": {},
   "outputs": [
    {
     "name": "stdout",
     "output_type": "stream",
     "text": [
      "Starting Spark application\n"
     ]
    },
    {
     "data": {
      "text/html": [
       "<table>\n",
       "<tr><th>ID</th><th>YARN Application ID</th><th>Kind</th><th>State</th><th>Spark UI</th><th>Driver log</th><th>User</th><th>Current session?</th></tr><tr><td>20</td><td>application_1744747065843_0065</td><td>pyspark</td><td>idle</td><td><a target=\"_blank\" href=\"http://ip-10-0-5-241.us-west-2.compute.internal:20888/proxy/application_1744747065843_0065/\">Link</a></td><td><a target=\"_blank\" href=\"http://ip-10-0-4-67.us-west-2.compute.internal:8042/node/containerlogs/container_1744747065843_0065_01_000001/livy\">Link</a></td><td>None</td><td>✔</td></tr></table>"
      ],
      "text/plain": [
       "<IPython.core.display.HTML object>"
      ]
     },
     "metadata": {},
     "output_type": "display_data"
    },
    {
     "data": {
      "application/vnd.jupyter.widget-view+json": {
       "model_id": "",
       "version_major": 2,
       "version_minor": 0
      },
      "text/plain": [
       "FloatProgress(value=0.0, bar_style='info', description='Progress:', layout=Layout(height='25px', width='50%'),…"
      ]
     },
     "metadata": {},
     "output_type": "display_data"
    },
    {
     "name": "stdout",
     "output_type": "stream",
     "text": [
      "SparkSession available as 'spark'.\n"
     ]
    },
    {
     "data": {
      "application/vnd.jupyter.widget-view+json": {
       "model_id": "",
       "version_major": 2,
       "version_minor": 0
      },
      "text/plain": [
       "FloatProgress(value=0.0, bar_style='info', description='Progress:', layout=Layout(height='25px', width='50%'),…"
      ]
     },
     "metadata": {},
     "output_type": "display_data"
    },
    {
     "name": "stdout",
     "output_type": "stream",
     "text": [
      "129960"
     ]
    }
   ],
   "source": [
    "from pyspark.sql import SparkSession\n",
    "import pyspark.sql.functions as F\n",
    "\n",
    "spark = SparkSession.builder.appName(\"YTTrendingAnalysis\").getOrCreate()#.config(\"spark.executor.memory\", \"1g\").config(\"spark.driver.memory\", \"1g\").config(\"spark.executor.instances\", \"1\").getOrCreate()\n",
    "\n",
    "base_path = \"s3://msbx5420-2025/teams/group2/project/\"\n",
    "countries = ['US', 'IN', 'GB']\n",
    "\n",
    "# Function to load and join video & category data\n",
    "def load_country_data(country_code):\n",
    "    videos_path = f\"{base_path}{country_code}videos.csv\"\n",
    "    category_path = f\"{base_path}{country_code}_category_id.json\"\n",
    "    \n",
    "    df = spark.read.option(\"header\", True).csv(videos_path)\n",
    "    cat = spark.read.option(\"multiline\", True).json(category_path)\n",
    "    \n",
    "    cat_exploded = cat.withColumn(\"items\", F.explode(\"items\"))\n",
    "    cat_df = cat_exploded.selectExpr(\"items.id as category_id\", \"items.snippet.title as category_name\")\n",
    "\n",
    "    df = df.join(cat_df, on=\"category_id\", how=\"left\")\n",
    "    df = df.withColumn(\"country\", F.lit(country_code))\n",
    "    return df\n",
    "\n",
    "# Load all\n",
    "df_all = load_country_data(\"US\").union(load_country_data(\"IN\").union(load_country_data(\"GB\")))\n",
    "df_all.cache().count()"
   ]
  },
  {
   "cell_type": "code",
   "execution_count": null,
   "id": "6b66d183",
   "metadata": {
    "scrolled": true
   },
   "outputs": [],
   "source": [
    "\n"
   ]
  },
  {
   "cell_type": "code",
   "execution_count": 9,
   "id": "4175d1d1",
   "metadata": {},
   "outputs": [
    {
     "data": {
      "application/vnd.jupyter.widget-view+json": {
       "model_id": "",
       "version_major": 2,
       "version_minor": 0
      },
      "text/plain": [
       "FloatProgress(value=0.0, bar_style='info', description='Progress:', layout=Layout(height='25px', width='50%'),…"
      ]
     },
     "metadata": {},
     "output_type": "display_data"
    },
    {
     "name": "stdout",
     "output_type": "stream",
     "text": [
      "+-------+--------------------------------------+--------------------+\n",
      "|country|channel_title                         |trending_video_count|\n",
      "+-------+--------------------------------------+--------------------+\n",
      "|GB     |The Tonight Show Starring Jimmy Fallon|208                 |\n",
      "|GB     |TheEllenShow                          |207                 |\n",
      "|GB     |Jimmy Kimmel Live                     |207                 |\n",
      "|IN     |VikatanTV                             |284                 |\n",
      "|IN     |etvteluguindia                        |282                 |\n",
      "|IN     |Flowers Comedy                        |270                 |\n",
      "|US     |ESPN                                  |203                 |\n",
      "|US     |The Tonight Show Starring Jimmy Fallon|197                 |\n",
      "|US     |Vox                                   |193                 |\n",
      "+-------+--------------------------------------+--------------------+"
     ]
    }
   ],
   "source": [
    "# 1. Top Trending Channels Per Country (Based on Number of Videos Trending)\n",
    "\n",
    "from pyspark.sql import functions as F\n",
    "\n",
    "# Filter nulls and specific countries\n",
    "filtered_df = df_all.filter(\n",
    "    (F.col(\"channel_title\").isNotNull()) & \n",
    "    (F.col(\"country\").isin(\"IN\", \"US\", \"GB\"))\n",
    ")\n",
    "\n",
    "# Group by country and channel_title, count, and order\n",
    "top_creators = (\n",
    "    filtered_df.groupBy(\"country\", \"channel_title\")\n",
    "    .agg(F.count(\"*\").alias(\"trending_video_count\"))\n",
    "    .orderBy(\"country\", F.desc(\"trending_video_count\"))\n",
    ")\n",
    "\n",
    "# Show top creators per country using window function\n",
    "from pyspark.sql.window import Window\n",
    "\n",
    "window_spec = Window.partitionBy(\"country\").orderBy(F.desc(\"trending_video_count\"))\n",
    "\n",
    "ranked_creators = top_creators.withColumn(\"rank\", F.row_number().over(window_spec))\n",
    "ranked_creators.filter(F.col(\"rank\") <= 3).select(\"country\", \"channel_title\", \"trending_video_count\").show(20, truncate=False)\n"
   ]
  },
  {
   "cell_type": "code",
   "execution_count": 7,
   "id": "af5920aa",
   "metadata": {},
   "outputs": [
    {
     "data": {
      "application/vnd.jupyter.widget-view+json": {
       "model_id": "",
       "version_major": 2,
       "version_minor": 0
      },
      "text/plain": [
       "FloatProgress(value=0.0, bar_style='info', description='Progress:', layout=Layout(height='25px', width='50%'),…"
      ]
     },
     "metadata": {},
     "output_type": "display_data"
    },
    {
     "name": "stdout",
     "output_type": "stream",
     "text": [
      "+-------+----------------+--------------------+\n",
      "|country|category_name   |trending_video_count|\n",
      "+-------+----------------+--------------------+\n",
      "|GB     |Music           |13754               |\n",
      "|GB     |Entertainment   |9124                |\n",
      "|GB     |People & Blogs  |2926                |\n",
      "|GB     |Film & Animation|2577                |\n",
      "|GB     |Howto & Style   |1928                |\n",
      "|IN     |Entertainment   |16712               |\n",
      "|IN     |News & Politics |5241                |\n",
      "|IN     |Music           |3858                |\n",
      "|IN     |Comedy          |3429                |\n",
      "|IN     |People & Blogs  |2624                |\n",
      "|US     |Entertainment   |9964                |\n",
      "|US     |Music           |6472                |\n",
      "|US     |Howto & Style   |4146                |\n",
      "|US     |Comedy          |3457                |\n",
      "|US     |People & Blogs  |3210                |\n",
      "+-------+----------------+--------------------+"
     ]
    }
   ],
   "source": [
    "from pyspark.sql import functions as F\n",
    "from pyspark.sql.window import Window\n",
    "\n",
    "# Filter out null categories and include only selected countries\n",
    "filtered_df = df_all.filter(\n",
    "    (F.col(\"category_name\").isNotNull()) & \n",
    "    (F.col(\"country\").isin(\"IN\", \"US\", \"GB\"))\n",
    ")\n",
    "\n",
    "# Group by country and category, count how many videos trended\n",
    "top_categories = (\n",
    "    filtered_df.groupBy(\"country\", \"category_name\")\n",
    "    .agg(F.count(\"*\").alias(\"trending_video_count\"))\n",
    "    .orderBy(\"country\", F.desc(\"trending_video_count\"))\n",
    ")\n",
    "\n",
    "# Rank categories within each country\n",
    "window_spec = Window.partitionBy(\"country\").orderBy(F.desc(\"trending_video_count\"))\n",
    "\n",
    "ranked_categories = top_categories.withColumn(\"rank\", F.row_number().over(window_spec))\n",
    "\n",
    "# Select top 5 categories per country\n",
    "ranked_categories.filter(F.col(\"rank\") <= 5) \\\n",
    "    .select(\"country\", \"category_name\", \"trending_video_count\") \\\n",
    "    .show(20, truncate=False)\n"
   ]
  },
  {
   "cell_type": "code",
   "execution_count": 8,
   "id": "325e298f",
   "metadata": {},
   "outputs": [
    {
     "data": {
      "application/vnd.jupyter.widget-view+json": {
       "model_id": "",
       "version_major": 2,
       "version_minor": 0
      },
      "text/plain": [
       "FloatProgress(value=0.0, bar_style='info', description='Progress:', layout=Layout(height='25px', width='50%'),…"
      ]
     },
     "metadata": {},
     "output_type": "display_data"
    },
    {
     "name": "stdout",
     "output_type": "stream",
     "text": [
      "+-------+-------------------------------------------------------------------------------+----------------+--------------------+-------------------+\n",
      "|country|title                                                                          |channel_title   |category_name       |engagement_rate    |\n",
      "+-------+-------------------------------------------------------------------------------+----------------+--------------------+-------------------+\n",
      "|US     |Bruno Mars - Finesse (Remix) [Feat. Cardi B] [Official Video]                  |Bruno Mars      |Music               |0.3259280997264049 |\n",
      "|US     |j-hope 'Airplane' MV                                                           |ibighit         |Music               |0.29570488840094683|\n",
      "|US     |Luis Fonsi, Demi Lovato - Échame La Culpa                                      |LuisFonsiVEVO   |Music               |0.294803838814592  |\n",
      "|US     |5 Seconds Of Summer - Want You Back (Audio)                                    |5SOSVEVO        |Music               |0.28950976640792975|\n",
      "|US     |dodie - Secret For The Mad                                                     |dodieVEVO       |Music               |0.2766127158677302 |\n",
      "|GB     |WHAT AM I?                                                                     |KickThePj       |Film & Animation    |0.33119729065675013|\n",
      "|GB     |Bruno Mars - Finesse (Remix) [Feat. Cardi B] [Official Video]                  |Bruno Mars      |Music               |0.3151449035268905 |\n",
      "|GB     |j-hope 'Airplane' MV                                                           |ibighit         |Music               |0.2957058361475088 |\n",
      "|GB     |dodie - Secret For The Mad                                                     |dodieVEVO       |Music               |0.2766127158677302 |\n",
      "|GB     |Gorillaz - Humility (Official Video)                                           |Gorillaz        |Music               |0.2729231909878606 |\n",
      "|IN     |OnePlus 6 Top Features and GIVEAWAY 🔥- OnePlus 6 Avengers Edition Giveaway!!🔥|Technical Guruji|Science & Technology|0.7742822580932931 |\n",
      "|IN     |OnePlus 6 Top Features and GIVEAWAY 🔥- OnePlus 6 Avengers Edition Giveaway!!🔥|Technical Guruji|Science & Technology|0.7742822580932931 |\n",
      "|IN     |Oneplus 5T Lava Red Unboxing and Giveaway 🔥🔥🔥 Valentine's Gift!!            |Technical Guruji|Science & Technology|0.6893284147819183 |\n",
      "|IN     |OnePlus 6 Top Features and GIVEAWAY 🔥- OnePlus 6 Avengers Edition Giveaway!!🔥|Technical Guruji|Science & Technology|0.6887774113036874 |\n",
      "|IN     |OnePlus 6 Top Features and GIVEAWAY 🔥- OnePlus 6 Avengers Edition Giveaway!!🔥|Technical Guruji|Science & Technology|0.6887774113036874 |\n",
      "+-------+-------------------------------------------------------------------------------+----------------+--------------------+-------------------+"
     ]
    }
   ],
   "source": [
    "# 2. Compute Engagement Rate per Video (likes + comments / views)\n",
    "\n",
    "from pyspark.sql.functions import col, row_number\n",
    "from pyspark.sql.window import Window\n",
    "\n",
    "# Step 1: Compute engagement rate\n",
    "df_engagement = df_all.withColumn(\n",
    "    \"engagement_rate\",\n",
    "    (col(\"likes\").cast(\"double\") + col(\"comment_count\").cast(\"double\")) / col(\"views\").cast(\"double\")\n",
    ")\n",
    "\n",
    "# Step 2: Create window to rank videos within each country by engagement rate\n",
    "window_spec = Window.partitionBy(\"country\").orderBy(col(\"engagement_rate\").desc())\n",
    "\n",
    "# Step 3: Rank videos and filter top N per country\n",
    "df_top_engaged = df_engagement.withColumn(\"rank\", row_number().over(window_spec)) \\\n",
    "    .filter(col(\"rank\") <= 5) \\\n",
    "    .select(\"country\", \"title\", \"channel_title\", \"category_name\", \"engagement_rate\")\n",
    "\n",
    "# Step 4: Show result\n",
    "df_top_engaged.show(20, truncate=False)\n"
   ]
  },
  {
   "cell_type": "code",
   "execution_count": 11,
   "id": "93dfd2ad",
   "metadata": {},
   "outputs": [
    {
     "data": {
      "application/vnd.jupyter.widget-view+json": {
       "model_id": "",
       "version_major": 2,
       "version_minor": 0
      },
      "text/plain": [
       "FloatProgress(value=0.0, bar_style='info', description='Progress:', layout=Layout(height='25px', width='50%'),…"
      ]
     },
     "metadata": {},
     "output_type": "display_data"
    },
    {
     "name": "stdout",
     "output_type": "stream",
     "text": [
      "+-------+---------------------------+\n",
      "|country|avg_engagement_rate_percent|\n",
      "+-------+---------------------------+\n",
      "|US     |3.89                       |\n",
      "|GB     |3.8                        |\n",
      "|IN     |2.46                       |\n",
      "+-------+---------------------------+"
     ]
    }
   ],
   "source": [
    "from pyspark.sql.functions import col, avg, round\n",
    "\n",
    "# Reuse or compute engagement rate again if needed\n",
    "df_engagement = df_all.withColumn(\n",
    "    \"engagement_rate\",\n",
    "    (col(\"likes\").cast(\"double\") + col(\"comment_count\").cast(\"double\")) / col(\"views\").cast(\"double\")\n",
    ")\n",
    "\n",
    "# Filter out any rows where views = 0 or engagement_rate is null/NaN\n",
    "df_engagement_clean = df_engagement.filter(\n",
    "    (col(\"views\").isNotNull()) & (col(\"views\") > 0) & (col(\"engagement_rate\").isNotNull())\n",
    ")\n",
    "\n",
    "# Group by country and compute average engagement rate as a percentage\n",
    "avg_engagement_by_country = df_engagement_clean.groupBy(\"country\") \\\n",
    "    .agg(round(avg(\"engagement_rate\") * 100, 2).alias(\"avg_engagement_rate_percent\"))\n",
    "\n",
    "# Show result\n",
    "avg_engagement_by_country.orderBy(col(\"avg_engagement_rate_percent\").desc()).show(truncate=False)\n",
    "\n"
   ]
  },
  {
   "cell_type": "code",
   "execution_count": 9,
   "id": "3be50d8e",
   "metadata": {},
   "outputs": [
    {
     "data": {
      "application/vnd.jupyter.widget-view+json": {
       "model_id": "",
       "version_major": 2,
       "version_minor": 0
      },
      "text/plain": [
       "FloatProgress(value=0.0, bar_style='info', description='Progress:', layout=Layout(height='25px', width='50%'),…"
      ]
     },
     "metadata": {},
     "output_type": "display_data"
    },
    {
     "name": "stdout",
     "output_type": "stream",
     "text": [
      "+-------+-----------------------------------------------------------------------------------------+------------------+-------------+\n",
      "|country|title                                                                                    |channel_title     |days_trending|\n",
      "+-------+-----------------------------------------------------------------------------------------+------------------+-------------+\n",
      "|GB     |To Our Daughter                                                                          |Kylie Jenner      |38           |\n",
      "|GB     |Justin Timberlake’s FULL Pepsi Super Bowl LII Halftime Show! | NFL Highlights            |NFL               |38           |\n",
      "|GB     |Jurassic World: Fallen Kingdom - Official Trailer #2 [HD]                                |Universal Pictures|38           |\n",
      "|GB     |Janelle Monáe – Make Me Feel [Official Music Video]                                      |Janelle Monáe     |37           |\n",
      "|GB     |Maroon 5 - Wait                                                                          |Maroon5VEVO       |37           |\n",
      "|US     |WE MADE OUR MOM CRY...HER DREAM CAME TRUE!                                               |Lucas and Marcus  |29           |\n",
      "|US     |Sam Smith - Pray (Official Video) ft. Logic                                              |SamSmithWorldVEVO |29           |\n",
      "|US     |The ULTIMATE $30,000 Gaming PC Setup                                                     |Unbox Therapy     |28           |\n",
      "|US     |Charlie Puth - BOY [Official Audio]                                                      |Charlie Puth      |28           |\n",
      "|US     |Cobra Kai Season 2                                                                       |Cobra Kai         |28           |\n",
      "|IN     |BB Ki Vines- | Maun Vrat |                                                               |BB Ki Vines       |9            |\n",
      "|IN     |Sanju | Official Teaser | Ranbir Kapoor | Rajkumar Hirani                                |FoxStarHindi      |9            |\n",
      "|IN     |Kaala (Tamil) - Official Teaser | Rajinikanth | Pa Ranjith | Dhanush | Santhosh Narayanan|Wunderbar Studios |8            |\n",
      "|IN     |Sanju | Official Trailer | Ranbir Kapoor | Rajkumar Hirani | Releasing on 29th June      |FoxStarHindi      |8            |\n",
      "|IN     |Incredibles 2 Official Teaser Trailer                                                    |Disney•Pixar      |8            |\n",
      "+-------+-----------------------------------------------------------------------------------------+------------------+-------------+"
     ]
    }
   ],
   "source": [
    "#3. Trend Longevity – How Long Do Videos Stay in Trending?\n",
    "\n",
    "from pyspark.sql import functions as F\n",
    "from pyspark.sql.window import Window\n",
    "\n",
    "# Step 1: Compute number of distinct trending days per video per country\n",
    "trend_duration = df_all.groupBy(\"video_id\", \"title\", \"channel_title\", \"country\") \\\n",
    "    .agg(F.countDistinct(\"trending_date\").alias(\"days_trending\"))\n",
    "\n",
    "# Step 2: Define window to rank videos by days_trending within each country\n",
    "window_spec = Window.partitionBy(\"country\").orderBy(F.desc(\"days_trending\"))\n",
    "\n",
    "# Step 3: Rank and filter top N per country\n",
    "trend_duration_ranked = trend_duration.withColumn(\"rank\", F.row_number().over(window_spec)) \\\n",
    "    .filter(F.col(\"rank\") <= 5) \\\n",
    "    .select(\"country\", \"title\", \"channel_title\", \"days_trending\")\n",
    "\n",
    "# Step 4: Show results\n",
    "trend_duration_ranked.show(20, truncate=False)\n"
   ]
  },
  {
   "cell_type": "code",
   "execution_count": 10,
   "id": "dee01302",
   "metadata": {},
   "outputs": [
    {
     "data": {
      "application/vnd.jupyter.widget-view+json": {
       "model_id": "",
       "version_major": 2,
       "version_minor": 0
      },
      "text/plain": [
       "FloatProgress(value=0.0, bar_style='info', description='Progress:', layout=Layout(height='25px', width='50%'),…"
      ]
     },
     "metadata": {},
     "output_type": "display_data"
    },
    {
     "name": "stdout",
     "output_type": "stream",
     "text": [
      "+-------+---------------------------------------------------------+--------------------+\n",
      "|country|title                                                    |countries_trended_in|\n",
      "+-------+---------------------------------------------------------+--------------------+\n",
      "|GB     |Calvin Harris, Dua Lipa - One Kiss (Official Video)      |3                   |\n",
      "|GB     |Westworld Season 2 | Official Super Bowl LII Ad | HBO    |3                   |\n",
      "|GB     |Ellen Makes 'Friends' with BTS!                          |3                   |\n",
      "|GB     |SPIDER-MAN: INTO THE SPIDER-VERSE - Official Trailer (HD)|3                   |\n",
      "|GB     |MOWGLI - Official 1st Trailer                            |3                   |\n",
      "|IN     |Calvin Harris, Dua Lipa - One Kiss (Official Video)      |3                   |\n",
      "|IN     |Westworld Season 2 | Official Super Bowl LII Ad | HBO    |3                   |\n",
      "|IN     |Ellen Makes 'Friends' with BTS!                          |3                   |\n",
      "|IN     |SPIDER-MAN: INTO THE SPIDER-VERSE - Official Trailer (HD)|3                   |\n",
      "|IN     |MOWGLI - Official 1st Trailer                            |3                   |\n",
      "|US     |Calvin Harris, Dua Lipa - One Kiss (Official Video)      |3                   |\n",
      "|US     |Westworld Season 2 | Official Super Bowl LII Ad | HBO    |3                   |\n",
      "|US     |Ellen Makes 'Friends' with BTS!                          |3                   |\n",
      "|US     |SPIDER-MAN: INTO THE SPIDER-VERSE - Official Trailer (HD)|3                   |\n",
      "|US     |MOWGLI - Official 1st Trailer                            |3                   |\n",
      "+-------+---------------------------------------------------------+--------------------+"
     ]
    }
   ],
   "source": [
    "#4. Cross-Country Trending Videos – Which Videos Went Viral Globally?\n",
    "\n",
    "#(Which video IDs appear in multiple countries)\n",
    "\n",
    "from pyspark.sql import functions as F\n",
    "from pyspark.sql.window import Window\n",
    "\n",
    "# Step 1: Count how many countries each video trended in\n",
    "cross_country_counts = df_all.groupBy(\"video_id\", \"title\") \\\n",
    "    .agg(F.countDistinct(\"country\").alias(\"countries_trended_in\")) \\\n",
    "    .filter(\"countries_trended_in > 1\")\n",
    "\n",
    "# Step 2: Join back to original DataFrame to get per-country view\n",
    "df_viral_per_country = df_all.select(\"video_id\", \"title\", \"country\").distinct() \\\n",
    "    .join(cross_country_counts, on=[\"video_id\", \"title\"], how=\"inner\")\n",
    "\n",
    "# Step 3: Rank within each country by number of countries a video trended in\n",
    "window_spec = Window.partitionBy(\"country\").orderBy(F.desc(\"countries_trended_in\"))\n",
    "\n",
    "ranked_viral = df_viral_per_country.withColumn(\"rank\", F.row_number().over(window_spec)) \\\n",
    "    .filter(F.col(\"rank\") <= 5) \\\n",
    "    .select(\"country\", \"title\", \"countries_trended_in\")\n",
    "\n",
    "# Step 4: Show result\n",
    "ranked_viral.show(20, truncate=False)\n"
   ]
  },
  {
   "cell_type": "code",
   "execution_count": 15,
   "id": "4363fef5",
   "metadata": {},
   "outputs": [
    {
     "data": {
      "application/vnd.jupyter.widget-view+json": {
       "model_id": "",
       "version_major": 2,
       "version_minor": 0
      },
      "text/plain": [
       "FloatProgress(value=0.0, bar_style='info', description='Progress:', layout=Layout(height='25px', width='50%'),…"
      ]
     },
     "metadata": {},
     "output_type": "display_data"
    },
    {
     "name": "stdout",
     "output_type": "stream",
     "text": [
      "+-------------------------------------------------+--------------------+-------+------------------+\n",
      "|title                                            |channel_title       |country|dislike_like_ratio|\n",
      "+-------------------------------------------------+--------------------+-------+------------------+\n",
      "|RollerCoaster Tycoon Start Engine Campaign       |RollerCoaster Tycoon|GB     |29.046770601336306|\n",
      "|PSA from Chairman of the FCC Ajit Pai            |Daily Caller        |GB     |24.182069302152726|\n",
      "|PSA from Chairman of the FCC Ajit Pai            |Daily Caller        |US     |23.942588168170314|\n",
      "|The FCC repeals its net neutrality rules         |Washington Post     |US     |22.354766688993077|\n",
      "|LuLaRoe Consultant Mocks Those With Special Needs|J S                 |US     |20.71186440677966 |\n",
      "+-------------------------------------------------+--------------------+-------+------------------+\n",
      "only showing top 5 rows"
     ]
    }
   ],
   "source": [
    "from pyspark.sql.functions import avg, max\n",
    "\n",
    "# First, aggregate the metrics per unique video ID\n",
    "video_stats = df_all.groupBy(\"video_id\", \"title\", \"channel_title\", \"country\") \\\n",
    "    .agg(\n",
    "        avg(\"likes\").cast(\"double\").alias(\"avg_likes\"),\n",
    "        avg(\"dislikes\").cast(\"double\").alias(\"avg_dislikes\"),\n",
    "        avg(\"comment_count\").cast(\"double\").alias(\"avg_comments\"),\n",
    "        avg(\"views\").cast(\"double\").alias(\"avg_views\")\n",
    "    )\n",
    "\n",
    "# Then, calculate toxicity indicators\n",
    "df_toxicity = video_stats.withColumn(\"dislike_like_ratio\",\n",
    "                                     (F.col(\"avg_dislikes\") + 1) / (F.col(\"avg_likes\") + 1)) \\\n",
    "                         .withColumn(\"comments_per_view\",\n",
    "                                     (F.col(\"avg_comments\") + 1) / (F.col(\"avg_views\") + 1)) \\\n",
    "                         .orderBy(F.desc(\"dislike_like_ratio\"))\n",
    "\n",
    "# Show top potentially controversial videos\n",
    "df_toxicity.select(\"title\", \"channel_title\", \"country\",\n",
    "                   \"dislike_like_ratio\") \\\n",
    "           .show(5, truncate=False)\n"
   ]
  },
  {
   "cell_type": "code",
   "execution_count": 17,
   "id": "0bd16ddf",
   "metadata": {},
   "outputs": [
    {
     "data": {
      "application/vnd.jupyter.widget-view+json": {
       "model_id": "",
       "version_major": 2,
       "version_minor": 0
      },
      "text/plain": [
       "FloatProgress(value=0.0, bar_style='info', description='Progress:', layout=Layout(height='25px', width='50%'),…"
      ]
     },
     "metadata": {},
     "output_type": "display_data"
    },
    {
     "name": "stdout",
     "output_type": "stream",
     "text": [
      "+-------+---------------+--------------------------+-------------+\n",
      "|country|category_name  |channel_title             |days_to_trend|\n",
      "+-------+---------------+--------------------------+-------------+\n",
      "|US     |People & Blogs |CaseyNeistat              |1            |\n",
      "|US     |Entertainment  |LastWeekTonight           |1            |\n",
      "|US     |Entertainment  |Good Mythical Morning     |1            |\n",
      "|GB     |Sports         |Salford City Football Club|1            |\n",
      "|GB     |News & Politics|Cute Girl Videos          |1            |\n",
      "|GB     |Comedy         |Jimmy Kimmel Live         |1            |\n",
      "|IN     |News & Politics|HJ NEWS                   |1            |\n",
      "|IN     |Entertainment  |Filmylooks                |1            |\n",
      "|IN     |Entertainment  |Top Telugu Media          |1            |\n",
      "+-------+---------------+--------------------------+-------------+"
     ]
    }
   ],
   "source": [
    "#6. Fastest Trending Videos – Which Videos Reached Trending List the Quickest?\n",
    "\n",
    "#(How fast does a video break into the trending list after being published)\n",
    "from pyspark.sql import functions as F\n",
    "from pyspark.sql.window import Window\n",
    "\n",
    "# Step 1: Compute publish and trending dates, and calculate days to trend\n",
    "df_speed = df_all.withColumn(\n",
    "    \"publish_date\", F.to_date(F.col(\"publish_time\").substr(1, 10), \"yyyy-MM-dd\")\n",
    ").withColumn(\n",
    "    \"trending_date\", F.to_date(\"trending_date\", \"yy.dd.MM\")\n",
    ").withColumn(\n",
    "    \"days_to_trend\", F.datediff(\"trending_date\", \"publish_date\")\n",
    ")\n",
    "\n",
    "# Step 2: Filter out any incorrect negative values\n",
    "df_speed_filtered = df_speed.filter(\"days_to_trend >= 1\")\n",
    "\n",
    "# Step 3: Define window by country to rank fastest-trending videos\n",
    "window_spec = Window.partitionBy(\"country\").orderBy(\"days_to_trend\")\n",
    "\n",
    "# Step 4: Rank and select top N fastest-trending videos per country\n",
    "fastest_trenders = df_speed_filtered.withColumn(\"rank\", F.row_number().over(window_spec)) \\\n",
    "    .filter(F.col(\"rank\") <= 3) \\\n",
    "    .select(\"country\", \"category_name\", \"channel_title\", \"days_to_trend\")\n",
    "\n",
    "# Step 5: Show result\n",
    "fastest_trenders.show(20, truncate=False)\n"
   ]
  },
  {
   "cell_type": "code",
   "execution_count": 17,
   "id": "a8e65f9c",
   "metadata": {},
   "outputs": [
    {
     "data": {
      "application/vnd.jupyter.widget-view+json": {
       "model_id": "",
       "version_major": 2,
       "version_minor": 0
      },
      "text/plain": [
       "FloatProgress(value=0.0, bar_style='info', description='Progress:', layout=Layout(height='25px', width='50%'),…"
      ]
     },
     "metadata": {},
     "output_type": "display_data"
    },
    {
     "name": "stdout",
     "output_type": "stream",
     "text": [
      "+-------+------------------+-----------------------+--------------+---------------+----------------+-------------------+\n",
      "|country|Subscribe Mentions|Links to External Sites|Watch Full CTA|Shop or Buy CTA|Comment Callouts|Smash That Like CTA|\n",
      "+-------+------------------+-----------------------+--------------+---------------+----------------+-------------------+\n",
      "|US     |18749             |35369                  |1090          |424            |256             |0                  |\n",
      "|IN     |21144             |30565                  |1357          |49             |205             |0                  |\n",
      "|GB     |13269             |32731                  |933           |381            |109             |0                  |\n",
      "+-------+------------------+-----------------------+--------------+---------------+----------------+-------------------+"
     ]
    }
   ],
   "source": [
    "#CTA\n",
    "#Use PySpark to detect and quantify promotional tactics used by creators across countries — like asking users to subscribe, click links, buy now, or watch full content. Think of it as identifying calls to action (CTAs) like an AI detective.\n",
    "\n",
    "from pyspark.sql.functions import lower, col, when, sum as _sum\n",
    "\n",
    "# Lowercase the text for uniformity\n",
    "df_cta = df_all.withColumn(\"desc_lower\", lower(col(\"description\")))\n",
    "\n",
    "# Define multiple CTA signals\n",
    "df_cta = df_cta \\\n",
    "    .withColumn(\"cta_subscribe\", when(col(\"desc_lower\").contains(\"subscribe\"), 1).otherwise(0)) \\\n",
    "    .withColumn(\"cta_link\", when(col(\"desc_lower\").contains(\"http\"), 1).otherwise(0)) \\\n",
    "    .withColumn(\"cta_watch_full\", when(col(\"desc_lower\").contains(\"watch full\"), 1).otherwise(0)) \\\n",
    "    .withColumn(\"cta_shop\", when(col(\"desc_lower\").rlike(\"buy now|shop here|order now|get yours\"), 1).otherwise(0)) \\\n",
    "    .withColumn(\"cta_comment\", when(col(\"desc_lower\").contains(\"comment below\"), 1).otherwise(0)) \\\n",
    "    .withColumn(\"cta_like\", when(col(\"desc_lower\").contains(\"smash that like\"), 1).otherwise(0))\n",
    "\n",
    "# Aggregate CTA signals by country\n",
    "cta_insights = df_cta.groupBy(\"country\").agg(\n",
    "    _sum(\"cta_subscribe\").alias(\"Subscribe Mentions\"),\n",
    "    _sum(\"cta_link\").alias(\"Links to External Sites\"),\n",
    "    _sum(\"cta_watch_full\").alias(\"Watch Full CTA\"),\n",
    "    _sum(\"cta_shop\").alias(\"Shop or Buy CTA\"),\n",
    "    _sum(\"cta_comment\").alias(\"Comment Callouts\"),\n",
    "    _sum(\"cta_like\").alias(\"Smash That Like CTA\")\n",
    ")\n",
    "\n",
    "cta_insights.show(10,truncate=False)\n"
   ]
  },
  {
   "cell_type": "code",
   "execution_count": 18,
   "id": "28ef5681",
   "metadata": {},
   "outputs": [
    {
     "data": {
      "application/vnd.jupyter.widget-view+json": {
       "model_id": "",
       "version_major": 2,
       "version_minor": 0
      },
      "text/plain": [
       "FloatProgress(value=0.0, bar_style='info', description='Progress:', layout=Layout(height='25px', width='50%'),…"
      ]
     },
     "metadata": {},
     "output_type": "display_data"
    },
    {
     "name": "stdout",
     "output_type": "stream",
     "text": [
      "+-------+-------------------------------------------------------------------------------------+------------------------------------+----------+\n",
      "|country|title                                                                                |channel_title                       |total_ctas|\n",
      "+-------+-------------------------------------------------------------------------------------+------------------------------------+----------+\n",
      "|US     |Flinch w/ BTS                                                                        |The Late Late Show with James Corden|3         |\n",
      "|US     |Kristen Wiig Struggles with 'Hallelujah'                                             |The Late Late Show with James Corden|3         |\n",
      "|US     |Saoirse Ronan Knows Why You Love 'Lady Bird'                                         |The Late Show with Stephen Colbert  |3         |\n",
      "|US     |The Talk - Hilary Duff Dishes on Boyfriend Matthew Koma: 'third times a charm'       |The Talk                            |3         |\n",
      "|US     |Steelers vs. Bengals | NFL Week 13 Game Highlights                                   |NFL                                 |3         |\n",
      "|GB     |The Voice 2017 Brooke Simpson and Sia - Finale: Titanium                             |The Voice                           |3         |\n",
      "|GB     |Crosswalk the Musical on Broadway (w/ Hugh Jackman, Zendaya & Zac Efron)             |The Late Late Show with James Corden|3         |\n",
      "|GB     |Jon Batiste Performs Winter Wonderland                                               |The Late Show with Stephen Colbert  |3         |\n",
      "|GB     |Boy speaks out on viral bullying video, mom addresses backlash                       |CBS This Morning                    |3         |\n",
      "|GB     |Little Women: Atlanta - Tanya's Surprise Baby Shower (Season 4, Episode 1) | Lifetime|Lifetime                            |3         |\n",
      "|IN     |12 Weird Ways To Sneak Food Into Class / Back To School Pranks                       |Troom Troom                         |3         |\n",
      "|IN     |Funny Salesmen Everywhere || Hyderabadi Comedy || Warangal Diaries                   |Warangal Diaries                    |3         |\n",
      "|IN     |Common Man Questions Modi - Badhil Kelvigal | Put Chutney                            |Put Chutney                         |3         |\n",
      "|IN     |Kim Jong-Un Hurt President Trump's 'Old' Feelings                                    |The Late Show with Stephen Colbert  |3         |\n",
      "|IN     |12 Weird Ways To Sneak Food Into Class / Back To School Pranks                       |Troom Troom                         |3         |\n",
      "+-------+-------------------------------------------------------------------------------------+------------------------------------+----------+"
     ]
    }
   ],
   "source": [
    "from pyspark.sql.window import Window\n",
    "from pyspark.sql.functions import row_number\n",
    "\n",
    "# Add total CTA score per video\n",
    "df_cta = df_cta.withColumn(\n",
    "    \"total_ctas\",\n",
    "    col(\"cta_subscribe\") + col(\"cta_link\") + col(\"cta_watch_full\") +\n",
    "    col(\"cta_shop\") + col(\"cta_comment\") + col(\"cta_like\")\n",
    ")\n",
    "\n",
    "# Rank videos with highest CTA usage per country\n",
    "window_spec = Window.partitionBy(\"country\").orderBy(col(\"total_ctas\").desc())\n",
    "\n",
    "cta_ranked = df_cta.withColumn(\"rank\", row_number().over(window_spec)) \\\n",
    "    .filter(col(\"rank\") <= 5) \\\n",
    "    .select(\"country\", \"title\", \"channel_title\", \"total_ctas\")\n",
    "\n",
    "cta_ranked.show(20, truncate=False)\n"
   ]
  },
  {
   "cell_type": "code",
   "execution_count": 19,
   "id": "35778f9c",
   "metadata": {},
   "outputs": [
    {
     "data": {
      "application/vnd.jupyter.widget-view+json": {
       "model_id": "",
       "version_major": 2,
       "version_minor": 0
      },
      "text/plain": [
       "FloatProgress(value=0.0, bar_style='info', description='Progress:', layout=Layout(height='25px', width='50%'),…"
      ]
     },
     "metadata": {},
     "output_type": "display_data"
    },
    {
     "name": "stdout",
     "output_type": "stream",
     "text": [
      "+-------+---------+-------------+----------+----+-------+----+\n",
      "|country|Subscribe|External Link|Watch Full|Shop|Comment|Like|\n",
      "+-------+---------+-------------+----------+----+-------+----+\n",
      "|US     |18749    |35369        |1090      |424 |256    |0   |\n",
      "|IN     |21144    |30565        |1357      |49  |205    |0   |\n",
      "|GB     |13269    |32731        |933       |381 |109    |0   |\n",
      "+-------+---------+-------------+----------+----+-------+----+"
     ]
    }
   ],
   "source": [
    "#CTA heatmap code\n",
    "\n",
    "from pyspark.sql.functions import lower, col, when, sum as _sum\n",
    "\n",
    "# Recreate or reuse CTA features\n",
    "df_cta = df_all.withColumn(\"desc_lower\", lower(col(\"description\")))\n",
    "\n",
    "df_cta = df_cta \\\n",
    "    .withColumn(\"cta_subscribe\", when(col(\"desc_lower\").contains(\"subscribe\"), 1).otherwise(0)) \\\n",
    "    .withColumn(\"cta_link\", when(col(\"desc_lower\").contains(\"http\"), 1).otherwise(0)) \\\n",
    "    .withColumn(\"cta_watch_full\", when(col(\"desc_lower\").contains(\"watch full\"), 1).otherwise(0)) \\\n",
    "    .withColumn(\"cta_shop\", when(col(\"desc_lower\").rlike(\"buy now|shop here|order now|get yours\"), 1).otherwise(0)) \\\n",
    "    .withColumn(\"cta_comment\", when(col(\"desc_lower\").contains(\"comment below\"), 1).otherwise(0)) \\\n",
    "    .withColumn(\"cta_like\", when(col(\"desc_lower\").contains(\"smash that like\"), 1).otherwise(0))\n",
    "\n",
    "# Aggregate by country (matrix-style)\n",
    "cta_heatmap = df_cta.groupBy(\"country\").agg(\n",
    "    _sum(\"cta_subscribe\").alias(\"Subscribe\"),\n",
    "    _sum(\"cta_link\").alias(\"External Link\"),\n",
    "    _sum(\"cta_watch_full\").alias(\"Watch Full\"),\n",
    "    _sum(\"cta_shop\").alias(\"Shop\"),\n",
    "    _sum(\"cta_comment\").alias(\"Comment\"),\n",
    "    _sum(\"cta_like\").alias(\"Like\")\n",
    ")\n",
    "\n",
    "# Show or export\n",
    "cta_heatmap.show(truncate=False)\n",
    "# Optionally: .toPandas().to_csv(\"cta_heatmap.csv\", index=False)\n"
   ]
  },
  {
   "cell_type": "code",
   "execution_count": 26,
   "id": "09377e27",
   "metadata": {},
   "outputs": [
    {
     "data": {
      "application/vnd.jupyter.widget-view+json": {
       "model_id": "",
       "version_major": 2,
       "version_minor": 0
      },
      "text/plain": [
       "FloatProgress(value=0.0, bar_style='info', description='Progress:', layout=Layout(height='25px', width='50%'),…"
      ]
     },
     "metadata": {},
     "output_type": "display_data"
    },
    {
     "name": "stdout",
     "output_type": "stream",
     "text": [
      "+-------+--------------------------------------+--------------+\n",
      "|country|channel_title                         |trending_count|\n",
      "+-------+--------------------------------------+--------------+\n",
      "|GB     |The Tonight Show Starring Jimmy Fallon|208           |\n",
      "|GB     |TheEllenShow                          |207           |\n",
      "|GB     |Jimmy Kimmel Live                     |207           |\n",
      "|GB     |Saturday Night Live                   |206           |\n",
      "|GB     |WWE                                   |205           |\n",
      "|GB     |The Late Late Show with James Corden  |202           |\n",
      "|GB     |Late Night with Seth Meyers           |194           |\n",
      "|GB     |Breakfast Club Power 105.1 FM         |193           |\n",
      "|GB     |The Late Show with Stephen Colbert    |189           |\n",
      "|GB     |Netflix                               |187           |\n",
      "|IN     |VikatanTV                             |284           |\n",
      "|IN     |etvteluguindia                        |282           |\n",
      "|IN     |Flowers Comedy                        |270           |\n",
      "|IN     |ETV Plus India                        |253           |\n",
      "|IN     |SAB TV                                |244           |\n",
      "|IN     |RadaanMedia                           |243           |\n",
      "|IN     |mallemalatv                           |238           |\n",
      "|IN     |SET India                             |238           |\n",
      "|IN     |ETV Jabardasth                        |234           |\n",
      "|IN     |Vijay Television                      |231           |\n",
      "+-------+--------------------------------------+--------------+\n",
      "only showing top 20 rows"
     ]
    }
   ],
   "source": [
    "#country leaderboard\n",
    "from pyspark.sql.functions import count, col\n",
    "\n",
    "# Remove null values from relevant columns\n",
    "df_filtered = df_all.filter(\n",
    "    col(\"country\").isNotNull() &\n",
    "    col(\"category_name\").isNotNull() &\n",
    "    col(\"channel_title\").isNotNull()\n",
    ")\n",
    "\n",
    "# Group by country and channel to get leaderboard\n",
    "df_leaderboard = df_filtered.groupBy(\"country\", \"channel_title\") \\\n",
    "    .agg(count(\"video_id\").alias(\"trending_count\"))\n",
    "\n",
    "# Rank creators within each country\n",
    "from pyspark.sql.window import Window\n",
    "from pyspark.sql.functions import row_number\n",
    "\n",
    "window_spec = Window.partitionBy(\"country\").orderBy(col(\"trending_count\").desc())\n",
    "\n",
    "df_ranked_leaderboard = df_leaderboard.withColumn(\"rank\", row_number().over(window_spec)) \\\n",
    "    .filter(col(\"rank\") <= 10) \\\n",
    "    .select(\"country\", \"channel_title\", \"trending_count\")\n",
    "\n",
    "# Show or export\n",
    "df_ranked_leaderboard.show(20, truncate=False)"
   ]
  },
  {
   "cell_type": "code",
   "execution_count": 29,
   "id": "7accbae1",
   "metadata": {
    "scrolled": true
   },
   "outputs": [
    {
     "data": {
      "application/vnd.jupyter.widget-view+json": {
       "model_id": "",
       "version_major": 2,
       "version_minor": 0
      },
      "text/plain": [
       "FloatProgress(value=0.0, bar_style='info', description='Progress:', layout=Layout(height='25px', width='50%'),…"
      ]
     },
     "metadata": {},
     "output_type": "display_data"
    },
    {
     "name": "stdout",
     "output_type": "stream",
     "text": [
      "+-------+----------------------------------------------------------+---------------+--------------------+--------------+\n",
      "|country|title                                                     |channel_title  |comments_per_view   |category_name |\n",
      "+-------+----------------------------------------------------------+---------------+--------------------+--------------+\n",
      "|US     |FULL FACE OF MAKEUP IM THROWING OUT 2018                  |Laura Lee      |0.11764423640050747 |Howto & Style |\n",
      "|US     |FULL FACE USING 7-ELEVEN MAKEUP!                          |Manny Mua      |0.11348988218654066 |Howto & Style |\n",
      "|US     |NEW WET N WILD 'GOTH-O-GRAPHIC' COLLECTION | HIT OR MISS?!|jeffreestar    |0.11157184015397043 |Howto & Style |\n",
      "|US     |FULL FACE OF MAKEUP IM THROWING OUT 2018                  |Laura Lee      |0.11045803133151602 |Howto & Style |\n",
      "|US     |NEW WET N WILD 'GOTH-O-GRAPHIC' COLLECTION | HIT OR MISS?!|jeffreestar    |0.10737782394669362 |Howto & Style |\n",
      "|GB     |A Critique of Star Wars: The Last Jedi - Part 2           |MauLer         |0.07315484333268191 |Gaming        |\n",
      "|GB     |Jacob Sartorius - Up With It (Official Music Video)       |Jacob Sartorius|0.0727877489332516  |Music         |\n",
      "|GB     |Presents from Father Christmas                            |randytaylor69  |0.06023588879528222 |People & Blogs|\n",
      "|GB     |A Critique of Star Wars: The Last Jedi - Part 2           |MauLer         |0.05878236529041288 |Gaming        |\n",
      "|GB     |You, but in emojis. (YIAY #375)                           |jacksfilms     |0.057723816588829996|Comedy        |\n",
      "+-------+----------------------------------------------------------+---------------+--------------------+--------------+\n",
      "only showing top 10 rows"
     ]
    }
   ],
   "source": [
    "#Videos that spark most conversations\n",
    "from pyspark.sql.functions import col\n",
    "\n",
    "# Filter and compute comments per view\n",
    "df_convo = df_all.filter(\n",
    "    col(\"comment_count\").isNotNull() & col(\"views\").isNotNull()\n",
    ").withColumn(\n",
    "    \"comments_per_view\",\n",
    "    (col(\"comment_count\").cast(\"double\") + 1) / (col(\"views\").cast(\"double\") + 1)\n",
    ")\n",
    "\n",
    "# Top conversation-sparking videos per country\n",
    "from pyspark.sql.window import Window\n",
    "from pyspark.sql.functions import row_number\n",
    "\n",
    "window_spec_convo = Window.partitionBy(\"country\").orderBy(col(\"comments_per_view\").desc())\n",
    "\n",
    "df_top_convo = df_convo.withColumn(\"rank\", row_number().over(window_spec_convo)) \\\n",
    "    .filter(col(\"rank\") <= 5) \\\n",
    "    .select(\"country\", \"title\", \"channel_title\", \"comments_per_view\", \"category_name\")\n",
    "\n",
    "df_top_convo.show(10, truncate=False)\n"
   ]
  },
  {
   "cell_type": "code",
   "execution_count": 31,
   "id": "c09ef6ab",
   "metadata": {},
   "outputs": [
    {
     "data": {
      "application/vnd.jupyter.widget-view+json": {
       "model_id": "",
       "version_major": 2,
       "version_minor": 0
      },
      "text/plain": [
       "FloatProgress(value=0.0, bar_style='info', description='Progress:', layout=Layout(height='25px', width='50%'),…"
      ]
     },
     "metadata": {},
     "output_type": "display_data"
    },
    {
     "name": "stdout",
     "output_type": "stream",
     "text": [
      "+-------+----------------------------------------------------------------------------------------------------+------------------+--------------------+--------------------+\n",
      "|country|title                                                                                               |dislike_like_ratio|comments_per_view   |polarization_score  |\n",
      "+-------+----------------------------------------------------------------------------------------------------+------------------+--------------------+--------------------+\n",
      "|US     |PSA from Chairman of the FCC Ajit Pai                                                               |23.924965311132457|0.024649873247882023|0.5897473623793894  |\n",
      "|US     |PSA from Chairman of the FCC Ajit Pai                                                               |24.045929018789145|0.024518066911374724|0.5895596966288394  |\n",
      "|US     |PSA from Chairman of the FCC Ajit Pai                                                               |23.861589888227307|0.024579429252962845|0.5865042605208967  |\n",
      "|US     |The FCC repeals its net neutrality rules                                                            |22.727981933894476|0.020142512028258796|0.4577986494815181  |\n",
      "|US     |The FCC repeals its net neutrality rules                                                            |22.188156972669937|0.01964525007085942 |0.435891892339584   |\n",
      "|GB     |RollerCoaster Tycoon Start Engine Campaign                                                          |32.06666666666667 |0.021658274928522632|0.6945086827079592  |\n",
      "|GB     |PSA from Chairman of the FCC Ajit Pai                                                               |25.440973483472575|0.025748635696279675|0.6550703579846466  |\n",
      "|GB     |PSA from Chairman of the FCC Ajit Pai                                                               |24.37221481622548 |0.025299873489410443|0.6166139515072394  |\n",
      "|GB     |PSA from Chairman of the FCC Ajit Pai                                                               |24.359709480122323|0.02527935216589481 |0.6157976746068986  |\n",
      "|GB     |PSA from Chairman of the FCC Ajit Pai                                                               |24.32895367795147 |0.025279732580031977|0.6150294429305986  |\n",
      "|IN     |పవన్‌కి కోచింగ్ ఇచ్చి జనాల్లోకి పంపండి : కత్తి | Kathi Mahesh Serious On Pawan kalyan Politics | TV5|4.426070038910506 |0.02337116336195189 |0.10344240593081819 |\n",
      "|IN     |வைரமுத்து சர்ச்சை பேச்சுக்கு  நித்யானந்தா சீடர்கள் வெளிட்ட வீடியோ ! vairamuthu , aandal             |3.8701298701298703|0.015978661566915364|0.06183949541481531 |\n",
      "|IN     |నిన్న నేడు శ్రీ రెడ్డి మాటలు చూడండి | Sri Reddy Different Speech | Pawan Kalyan | Adya Media        |5.887640449438202 |0.010151299624983836|0.05976720228642169 |\n",
      "|IN     |పవన్ కళ్యాణ్ మసాజ్ గురించి బయటపెట్టిన నటి | Artist Sruthi About Pawan Kalyan Character | TV5 News   |3.29553264604811  |0.01791220306527852 |0.05903024996426839 |\n",
      "|IN     |Sri Reddy abuses Pawan Kalyan || Tollywood Casting Couch - TV9                                      |4.012121212121212 |0.013187590069880632|0.052910209856127134|\n",
      "+-------+----------------------------------------------------------------------------------------------------+------------------+--------------------+--------------------+"
     ]
    }
   ],
   "source": [
    "#Most Polarizing videos\n",
    "from pyspark.sql.functions import col\n",
    "\n",
    "# Calculate both toxicity indicators\n",
    "df_polarizing = df_all.filter(\n",
    "    col(\"likes\").isNotNull() & col(\"dislikes\").isNotNull() & col(\"comment_count\").isNotNull() & col(\"views\").isNotNull()\n",
    ").withColumn(\n",
    "    \"dislike_like_ratio\",\n",
    "    (col(\"dislikes\").cast(\"double\") + 1) / (col(\"likes\").cast(\"double\") + 1)\n",
    ").withColumn(\n",
    "    \"comments_per_view\",\n",
    "    (col(\"comment_count\").cast(\"double\") + 1) / (col(\"views\").cast(\"double\") + 1)\n",
    ")\n",
    "\n",
    "# Combine both metrics by summing or multiplying (you can experiment)\n",
    "df_polarizing = df_polarizing.withColumn(\n",
    "    \"polarization_score\",\n",
    "    col(\"dislike_like_ratio\") * col(\"comments_per_view\")\n",
    ")\n",
    "\n",
    "# Top polarizing videos per country\n",
    "window_spec_polar = Window.partitionBy(\"country\").orderBy(col(\"polarization_score\").desc())\n",
    "\n",
    "df_top_polarizing = df_polarizing.withColumn(\"rank\", row_number().over(window_spec_polar)) \\\n",
    "    .filter(col(\"rank\") <= 5) \\\n",
    "    .select(\"country\", \"title\", \"dislike_like_ratio\", \"comments_per_view\", \"polarization_score\")\n",
    "\n",
    "df_top_polarizing.show(20, truncate=False)\n"
   ]
  },
  {
   "cell_type": "code",
   "execution_count": null,
   "id": "74f92633",
   "metadata": {},
   "outputs": [],
   "source": []
  }
 ],
 "metadata": {
  "kernelspec": {
   "display_name": "PySpark",
   "language": "python",
   "name": "pysparkkernel"
  },
  "language_info": {
   "codemirror_mode": {
    "name": "python",
    "version": 3
   },
   "file_extension": ".py",
   "mimetype": "text/x-python",
   "name": "pyspark",
   "pygments_lexer": "python3"
  }
 },
 "nbformat": 4,
 "nbformat_minor": 5
}
